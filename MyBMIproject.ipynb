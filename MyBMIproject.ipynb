{
 "cells": [
  {
   "cell_type": "code",
   "execution_count": 12,
   "id": "e6d6c281",
   "metadata": {},
   "outputs": [
    {
     "name": "stdout",
     "output_type": "stream",
     "text": [
      "Enter you name: A\n",
      "\n",
      "Enter your weight in kilograms: 78\n",
      "\n",
      "Enter your height in metres: 1.78\n",
      "\n",
      "24.61810377477591\n",
      "\n",
      "A, You are normal.\n"
     ]
    }
   ],
   "source": [
    "name = input(\"Enter you name: \")\n",
    "\n",
    "print()\n",
    "\n",
    "weight = int(input(\"Enter your weight in kilograms: \"))\n",
    "\n",
    "print()\n",
    "\n",
    "height = float(input(\"Enter your height in metres: \"))\n",
    "\n",
    "BMI = (weight) / (height * height)\n",
    "\n",
    "print()\n",
    "\n",
    "print(BMI)\n",
    "\n",
    "print()\n",
    "\n",
    "if BMI>0:\n",
    "    if(BMI<18.5):\n",
    "        print(name +\", You are underweight.\")\n",
    "    elif (BMI<=24.9):\n",
    "        print(name +\", You are normal.\")\n",
    "    elif (BMI<29.9):\n",
    "        print(name +\", You are overweight.\")\n",
    "    elif (BMI<34.9):\n",
    "        print(name +\", You are obese.\")\n",
    "    elif (BMI<39.9):\n",
    "        print(name +\", You are severely obese.\")\n",
    "    else:\n",
    "        print(name +\", You are morbidly obese.\")\n",
    "else:\n",
    "    print(\"Enter valid input\")"
   ]
  },
  {
   "cell_type": "code",
   "execution_count": null,
   "id": "6ee2db61",
   "metadata": {},
   "outputs": [],
   "source": []
  },
  {
   "cell_type": "code",
   "execution_count": null,
   "id": "917052da",
   "metadata": {},
   "outputs": [],
   "source": []
  }
 ],
 "metadata": {
  "kernelspec": {
   "display_name": "Python 3 (ipykernel)",
   "language": "python",
   "name": "python3"
  },
  "language_info": {
   "codemirror_mode": {
    "name": "ipython",
    "version": 3
   },
   "file_extension": ".py",
   "mimetype": "text/x-python",
   "name": "python",
   "nbconvert_exporter": "python",
   "pygments_lexer": "ipython3",
   "version": "3.11.5"
  }
 },
 "nbformat": 4,
 "nbformat_minor": 5
}
